{
  "nbformat": 4,
  "nbformat_minor": 0,
  "metadata": {
    "colab": {
      "provenance": []
    },
    "kernelspec": {
      "name": "python3",
      "display_name": "Python 3"
    },
    "language_info": {
      "name": "python"
    }
  },
  "cells": [
    {
      "cell_type": "code",
      "execution_count": 3,
      "metadata": {
        "id": "bSV8Q3uBmWfe"
      },
      "outputs": [],
      "source": [
        "generator_yaml=\"\"\"\n",
        "title: Python Generators and Iteration Notes\n",
        "\n",
        "generators:\n",
        "  definition: \"Generator is a function and a simple way of creating iterators.\"\n",
        "  characteristics:\n",
        "    - \"Returns data in tuples (like iterators).\"\n",
        "    - \"Uses yield instead of return.\"\n",
        "    - \"Does not store the entire sequence in memory.\"\n",
        "    - \"Yields one value at a time.\"\n",
        "    - \"Pauses execution at yield and saves local state.\"\n",
        "    - \"Resumes from the yield point when next() is called again.\"\n",
        "\n",
        "yield_behavior:\n",
        "  explanation:\n",
        "    - \"Yield temporarily pauses the function execution.\"\n",
        "    - \"Preserves local variables’ state between calls.\"\n",
        "    - \"Acts like an automatic iterator.\"\n",
        "    - \"Raises StopIteration when exhausted.\"\n",
        "\n",
        "methods:\n",
        "  - \"__iter__()\"\n",
        "  - \"__next__()\"\n",
        "\n",
        "iteration:\n",
        "  definition: \"Traversing each element one by one, like in a for loop.\"\n",
        "\n",
        "generator_vs_iterator:\n",
        "  comparison:\n",
        "    - \"Generators perform automatic iteration.\"\n",
        "    - \"Generators are also known as generator iterators.\"\n",
        "    \"\"\"\n",
        "with open(\"generator.yaml\", \"w\") as file:\n",
        "    file.write(generator_yaml)"
      ]
    },
    {
      "cell_type": "code",
      "source": [],
      "metadata": {
        "id": "9xclBF1qmcZ8"
      },
      "execution_count": null,
      "outputs": []
    }
  ]
}